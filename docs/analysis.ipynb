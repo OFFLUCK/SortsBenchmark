{
 "cells": [
  {
   "cell_type": "code",
   "execution_count": 4,
   "metadata": {
    "collapsed": true
   },
   "outputs": [],
   "source": [
    "import numpy as np\n",
    "import pandas as pd\n",
    "import matplotlib.pyplot as plt\n",
    "import seaborn as sns"
   ]
  },
  {
   "cell_type": "code",
   "execution_count": 5,
   "outputs": [
    {
     "data": {
      "text/plain": "                sort_name  random_time_small  random_steps_small  \\\n0              BubbleSort              0.027                1225   \n1      BubbleSortIverson1              0.016                1170   \n2    BubbleSortIverson1&2              0.020                1084   \n3           SelectionSort              0.010                1225   \n4     LinearInsertionSort              0.011                 484   \n..                    ...                ...                 ...   \n307             RadixSort              0.239               18600   \n308             MergeSort              0.189                2397   \n309              HoarSort              0.041                2218   \n310            LomutoSort              0.067                3023   \n311              HeapSort              0.166                   0   \n\n     random_time_big  random_steps_big  sorted_time  sorted_steps  \\\n0              0.019              1225        0.008          1225   \n1              0.018              1170        0.003            97   \n2              0.021              1139        0.004            91   \n3              0.012              1225        0.009          1225   \n4              0.015               573        0.003             6   \n..               ...               ...          ...           ...   \n307            0.239             18600        0.225         18600   \n308            0.182              2397        0.167          2397   \n309            0.041              2172        0.022          2410   \n310            0.043              2926        0.500         37869   \n311            0.147                 0        0.153             0   \n\n     reversed_time  reversed_steps  arr_len  \n0            0.028            1225       50  \n1            0.026            1225       50  \n2            0.026            1225       50  \n3            0.009            1225       50  \n4            0.025            1225       50  \n..             ...             ...      ...  \n307          0.221           18600      300  \n308          0.162            2397      300  \n309          0.017            2189      300  \n310          0.370           45149      300  \n311          0.132               0      300  \n\n[312 rows x 10 columns]",
      "text/html": "<div>\n<style scoped>\n    .dataframe tbody tr th:only-of-type {\n        vertical-align: middle;\n    }\n\n    .dataframe tbody tr th {\n        vertical-align: top;\n    }\n\n    .dataframe thead th {\n        text-align: right;\n    }\n</style>\n<table border=\"1\" class=\"dataframe\">\n  <thead>\n    <tr style=\"text-align: right;\">\n      <th></th>\n      <th>sort_name</th>\n      <th>random_time_small</th>\n      <th>random_steps_small</th>\n      <th>random_time_big</th>\n      <th>random_steps_big</th>\n      <th>sorted_time</th>\n      <th>sorted_steps</th>\n      <th>reversed_time</th>\n      <th>reversed_steps</th>\n      <th>arr_len</th>\n    </tr>\n  </thead>\n  <tbody>\n    <tr>\n      <th>0</th>\n      <td>BubbleSort</td>\n      <td>0.027</td>\n      <td>1225</td>\n      <td>0.019</td>\n      <td>1225</td>\n      <td>0.008</td>\n      <td>1225</td>\n      <td>0.028</td>\n      <td>1225</td>\n      <td>50</td>\n    </tr>\n    <tr>\n      <th>1</th>\n      <td>BubbleSortIverson1</td>\n      <td>0.016</td>\n      <td>1170</td>\n      <td>0.018</td>\n      <td>1170</td>\n      <td>0.003</td>\n      <td>97</td>\n      <td>0.026</td>\n      <td>1225</td>\n      <td>50</td>\n    </tr>\n    <tr>\n      <th>2</th>\n      <td>BubbleSortIverson1&amp;2</td>\n      <td>0.020</td>\n      <td>1084</td>\n      <td>0.021</td>\n      <td>1139</td>\n      <td>0.004</td>\n      <td>91</td>\n      <td>0.026</td>\n      <td>1225</td>\n      <td>50</td>\n    </tr>\n    <tr>\n      <th>3</th>\n      <td>SelectionSort</td>\n      <td>0.010</td>\n      <td>1225</td>\n      <td>0.012</td>\n      <td>1225</td>\n      <td>0.009</td>\n      <td>1225</td>\n      <td>0.009</td>\n      <td>1225</td>\n      <td>50</td>\n    </tr>\n    <tr>\n      <th>4</th>\n      <td>LinearInsertionSort</td>\n      <td>0.011</td>\n      <td>484</td>\n      <td>0.015</td>\n      <td>573</td>\n      <td>0.003</td>\n      <td>6</td>\n      <td>0.025</td>\n      <td>1225</td>\n      <td>50</td>\n    </tr>\n    <tr>\n      <th>...</th>\n      <td>...</td>\n      <td>...</td>\n      <td>...</td>\n      <td>...</td>\n      <td>...</td>\n      <td>...</td>\n      <td>...</td>\n      <td>...</td>\n      <td>...</td>\n      <td>...</td>\n    </tr>\n    <tr>\n      <th>307</th>\n      <td>RadixSort</td>\n      <td>0.239</td>\n      <td>18600</td>\n      <td>0.239</td>\n      <td>18600</td>\n      <td>0.225</td>\n      <td>18600</td>\n      <td>0.221</td>\n      <td>18600</td>\n      <td>300</td>\n    </tr>\n    <tr>\n      <th>308</th>\n      <td>MergeSort</td>\n      <td>0.189</td>\n      <td>2397</td>\n      <td>0.182</td>\n      <td>2397</td>\n      <td>0.167</td>\n      <td>2397</td>\n      <td>0.162</td>\n      <td>2397</td>\n      <td>300</td>\n    </tr>\n    <tr>\n      <th>309</th>\n      <td>HoarSort</td>\n      <td>0.041</td>\n      <td>2218</td>\n      <td>0.041</td>\n      <td>2172</td>\n      <td>0.022</td>\n      <td>2410</td>\n      <td>0.017</td>\n      <td>2189</td>\n      <td>300</td>\n    </tr>\n    <tr>\n      <th>310</th>\n      <td>LomutoSort</td>\n      <td>0.067</td>\n      <td>3023</td>\n      <td>0.043</td>\n      <td>2926</td>\n      <td>0.500</td>\n      <td>37869</td>\n      <td>0.370</td>\n      <td>45149</td>\n      <td>300</td>\n    </tr>\n    <tr>\n      <th>311</th>\n      <td>HeapSort</td>\n      <td>0.166</td>\n      <td>0</td>\n      <td>0.147</td>\n      <td>0</td>\n      <td>0.153</td>\n      <td>0</td>\n      <td>0.132</td>\n      <td>0</td>\n      <td>300</td>\n    </tr>\n  </tbody>\n</table>\n<p>312 rows × 10 columns</p>\n</div>"
     },
     "execution_count": 5,
     "metadata": {},
     "output_type": "execute_result"
    }
   ],
   "source": [
    "small_array_data = pd.read_csv('case1.csv', sep=';')\n",
    "small_array_data"
   ],
   "metadata": {
    "collapsed": false,
    "pycharm": {
     "name": "#%%\n"
    }
   }
  },
  {
   "cell_type": "code",
   "execution_count": 6,
   "outputs": [
    {
     "data": {
      "text/plain": "                sort_name  random_time_small  random_steps_small  \\\n0              BubbleSort              0.087              4950.0   \n1      BubbleSortIverson1              0.058              4859.0   \n2    BubbleSortIverson1&2              0.107              4859.0   \n3           SelectionSort              0.029              4950.0   \n4     LinearInsertionSort              0.037              2208.0   \n..                    ...                ...                 ...   \n487             RadixSort              3.997            254200.0   \n488             MergeSort              3.385             49191.0   \n489              HoarSort              0.723             45675.0   \n490            LomutoSort              0.952             67628.0   \n491              HeapSort              3.298                 0.0   \n\n     random_time_big  random_steps_big  sorted_time  sorted_steps  \\\n0              0.180            4950.0        0.046        4950.0   \n1              0.060            4914.0        0.004         197.0   \n2              0.087            4786.0        0.004         195.0   \n3              0.031            4950.0        0.028        4950.0   \n4              0.041            2461.0        0.004          11.0   \n..               ...               ...          ...           ...   \n487            3.712          254200.0        3.242      254200.0   \n488            3.111           49191.0        2.613       49191.0   \n489            0.721           43126.0        0.280       48485.0   \n490            0.836           58246.0      103.027     7382280.0   \n491            3.494               0.0        2.904           0.0   \n\n     reversed_time  reversed_steps  arr_len  \n0            0.112          4950.0      100  \n1            0.073          4950.0      100  \n2            0.120          4950.0      100  \n3            0.044          4950.0      100  \n4            0.077          4950.0      100  \n..             ...             ...      ...  \n487          2.922        254200.0     4100  \n488          2.567         49191.0     4100  \n489          0.251         45109.0     4100  \n490         76.252       8407050.0     4100  \n491          2.765             0.0     4100  \n\n[492 rows x 10 columns]",
      "text/html": "<div>\n<style scoped>\n    .dataframe tbody tr th:only-of-type {\n        vertical-align: middle;\n    }\n\n    .dataframe tbody tr th {\n        vertical-align: top;\n    }\n\n    .dataframe thead th {\n        text-align: right;\n    }\n</style>\n<table border=\"1\" class=\"dataframe\">\n  <thead>\n    <tr style=\"text-align: right;\">\n      <th></th>\n      <th>sort_name</th>\n      <th>random_time_small</th>\n      <th>random_steps_small</th>\n      <th>random_time_big</th>\n      <th>random_steps_big</th>\n      <th>sorted_time</th>\n      <th>sorted_steps</th>\n      <th>reversed_time</th>\n      <th>reversed_steps</th>\n      <th>arr_len</th>\n    </tr>\n  </thead>\n  <tbody>\n    <tr>\n      <th>0</th>\n      <td>BubbleSort</td>\n      <td>0.087</td>\n      <td>4950.0</td>\n      <td>0.180</td>\n      <td>4950.0</td>\n      <td>0.046</td>\n      <td>4950.0</td>\n      <td>0.112</td>\n      <td>4950.0</td>\n      <td>100</td>\n    </tr>\n    <tr>\n      <th>1</th>\n      <td>BubbleSortIverson1</td>\n      <td>0.058</td>\n      <td>4859.0</td>\n      <td>0.060</td>\n      <td>4914.0</td>\n      <td>0.004</td>\n      <td>197.0</td>\n      <td>0.073</td>\n      <td>4950.0</td>\n      <td>100</td>\n    </tr>\n    <tr>\n      <th>2</th>\n      <td>BubbleSortIverson1&amp;2</td>\n      <td>0.107</td>\n      <td>4859.0</td>\n      <td>0.087</td>\n      <td>4786.0</td>\n      <td>0.004</td>\n      <td>195.0</td>\n      <td>0.120</td>\n      <td>4950.0</td>\n      <td>100</td>\n    </tr>\n    <tr>\n      <th>3</th>\n      <td>SelectionSort</td>\n      <td>0.029</td>\n      <td>4950.0</td>\n      <td>0.031</td>\n      <td>4950.0</td>\n      <td>0.028</td>\n      <td>4950.0</td>\n      <td>0.044</td>\n      <td>4950.0</td>\n      <td>100</td>\n    </tr>\n    <tr>\n      <th>4</th>\n      <td>LinearInsertionSort</td>\n      <td>0.037</td>\n      <td>2208.0</td>\n      <td>0.041</td>\n      <td>2461.0</td>\n      <td>0.004</td>\n      <td>11.0</td>\n      <td>0.077</td>\n      <td>4950.0</td>\n      <td>100</td>\n    </tr>\n    <tr>\n      <th>...</th>\n      <td>...</td>\n      <td>...</td>\n      <td>...</td>\n      <td>...</td>\n      <td>...</td>\n      <td>...</td>\n      <td>...</td>\n      <td>...</td>\n      <td>...</td>\n      <td>...</td>\n    </tr>\n    <tr>\n      <th>487</th>\n      <td>RadixSort</td>\n      <td>3.997</td>\n      <td>254200.0</td>\n      <td>3.712</td>\n      <td>254200.0</td>\n      <td>3.242</td>\n      <td>254200.0</td>\n      <td>2.922</td>\n      <td>254200.0</td>\n      <td>4100</td>\n    </tr>\n    <tr>\n      <th>488</th>\n      <td>MergeSort</td>\n      <td>3.385</td>\n      <td>49191.0</td>\n      <td>3.111</td>\n      <td>49191.0</td>\n      <td>2.613</td>\n      <td>49191.0</td>\n      <td>2.567</td>\n      <td>49191.0</td>\n      <td>4100</td>\n    </tr>\n    <tr>\n      <th>489</th>\n      <td>HoarSort</td>\n      <td>0.723</td>\n      <td>45675.0</td>\n      <td>0.721</td>\n      <td>43126.0</td>\n      <td>0.280</td>\n      <td>48485.0</td>\n      <td>0.251</td>\n      <td>45109.0</td>\n      <td>4100</td>\n    </tr>\n    <tr>\n      <th>490</th>\n      <td>LomutoSort</td>\n      <td>0.952</td>\n      <td>67628.0</td>\n      <td>0.836</td>\n      <td>58246.0</td>\n      <td>103.027</td>\n      <td>7382280.0</td>\n      <td>76.252</td>\n      <td>8407050.0</td>\n      <td>4100</td>\n    </tr>\n    <tr>\n      <th>491</th>\n      <td>HeapSort</td>\n      <td>3.298</td>\n      <td>0.0</td>\n      <td>3.494</td>\n      <td>0.0</td>\n      <td>2.904</td>\n      <td>0.0</td>\n      <td>2.765</td>\n      <td>0.0</td>\n      <td>4100</td>\n    </tr>\n  </tbody>\n</table>\n<p>492 rows × 10 columns</p>\n</div>"
     },
     "execution_count": 6,
     "metadata": {},
     "output_type": "execute_result"
    }
   ],
   "source": [
    "large_array_data = pd.read_csv('case2.csv', sep=';')\n",
    "large_array_data"
   ],
   "metadata": {
    "collapsed": false,
    "pycharm": {
     "name": "#%%\n"
    }
   }
  }
 ],
 "metadata": {
  "kernelspec": {
   "display_name": "Python 3",
   "language": "python",
   "name": "python3"
  },
  "language_info": {
   "codemirror_mode": {
    "name": "ipython",
    "version": 2
   },
   "file_extension": ".py",
   "mimetype": "text/x-python",
   "name": "python",
   "nbconvert_exporter": "python",
   "pygments_lexer": "ipython2",
   "version": "2.7.6"
  }
 },
 "nbformat": 4,
 "nbformat_minor": 0
}